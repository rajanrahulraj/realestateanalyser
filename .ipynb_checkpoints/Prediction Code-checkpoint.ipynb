{
 "cells": [
  {
   "cell_type": "code",
   "execution_count": 4,
   "id": "fa8e1d72",
   "metadata": {},
   "outputs": [
    {
     "name": "stdout",
     "output_type": "stream",
     "text": [
      "Predictions for LocationID 4 from 2023-12-01 00:00:00 to 2024-03-01 00:00:00:\n",
      "2023-12-01 00:00:00: 13271.823352004822\n",
      "2024-01-01 00:00:00: 13493.18042524825\n",
      "2024-02-01 00:00:00: 13975.820082990753\n"
     ]
    }
   ],
   "source": [
    "import pandas as pd\n",
    "import pickle\n",
    "from statsmodels.tsa.arima.model import ARIMA\n",
    "\n",
    "# Reading a dataset\n",
    "data = pd.read_csv('programing data/2020-2021month.csv')\n",
    "\n",
    "# Define the start time of the forecast and the number of months of the forecast\n",
    "# The user can enter\n",
    "location_id = 4\n",
    "start_time = pd.to_datetime('2023-12-01')\n",
    "num_months = 3\n",
    "\n",
    "with open('model_DO.pkl', 'rb') as f:\n",
    "    model_ARIMA = pickle.load(f)\n",
    "\n",
    "# Get the model corresponding to the LocationID\n",
    "model = model_ARIMA[location_id]\n",
    "\n",
    "# Get the historical data needed for the model, either training data or other historical data\n",
    "# In this example, we use the training data as historical data\n",
    "location_data = data[data['LocationID'] == location_id]\n",
    "historical_data = location_data['DropOff_count'].values\n",
    "\n",
    "# Calculate the end of the forecast based on the start of the forecast and the number of months in the forecast\n",
    "end_time = start_time + pd.DateOffset(months=num_months)\n",
    "\n",
    "# Use the model to make predictions and get future data\n",
    "predictions = model.predict(start=len(historical_data), end=len(historical_data) + num_months - 1)\n",
    "\n",
    "# Print prediction results\n",
    "print(f'Predictions for LocationID {location_id} from {start_time} to {end_time}:')\n",
    "for i, prediction in enumerate(predictions):\n",
    "    prediction_date = start_time + pd.DateOffset(months=i)\n",
    "    print(f'{prediction_date}: {prediction}')\n"
   ]
  },
  {
   "cell_type": "code",
   "execution_count": null,
   "id": "e40efc1c",
   "metadata": {},
   "outputs": [],
   "source": []
  }
 ],
 "metadata": {
  "kernelspec": {
   "display_name": "Python 3 (ipykernel)",
   "language": "python",
   "name": "python3"
  },
  "language_info": {
   "codemirror_mode": {
    "name": "ipython",
    "version": 3
   },
   "file_extension": ".py",
   "mimetype": "text/x-python",
   "name": "python",
   "nbconvert_exporter": "python",
   "pygments_lexer": "ipython3",
   "version": "3.8.16"
  }
 },
 "nbformat": 4,
 "nbformat_minor": 5
}
