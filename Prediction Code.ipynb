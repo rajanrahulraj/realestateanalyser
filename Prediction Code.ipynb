{
 "cells": [
  {
   "cell_type": "code",
   "execution_count": 4,
   "id": "fa8e1d72",
   "metadata": {},
   "outputs": [
    {
     "name": "stdout",
     "output_type": "stream",
     "text": [
      "Predictions for LocationID 4 from 2023-12-01 00:00:00 to 2024-03-01 00:00:00:\n",
      "2023-12-01 00:00:00: 13271.823352004822\n",
      "2024-01-01 00:00:00: 13493.18042524825\n",
      "2024-02-01 00:00:00: 13975.820082990753\n"
     ]
    }
   ],
   "source": [
    "import pandas as pd\n",
    "import pickle\n",
    "from statsmodels.tsa.arima.model import ARIMA\n",
    "\n",
    "# Reading a dataset\n",
    "data = pd.read_csv('programing data/2020-2021month.csv')\n",
    "\n",
    "# Define the start time of the forecast and the number of months of the forecast\n",
    "# The user can enter\n",
    "location_id = 4\n",
    "start_time = pd.to_datetime('2023-12-01')\n",
    "num_months = 3\n",
    "\n",
    "with open('model_DO.pkl', 'rb') as f:\n",
    "    model_ARIMA = pickle.load(f)\n",
    "\n",
    "# Get the model corresponding to the LocationID\n",
    "model = model_ARIMA[location_id]\n",
    "\n",
    "# Get the historical data needed for the model, either training data or other historical data\n",
    "# In this example, we use the training data as historical data\n",
    "location_data = data[data['LocationID'] == location_id]\n",
    "historical_data = location_data['DropOff_count'].values\n",
    "\n",
    "# Calculate the end of the forecast based on the start of the forecast and the number of months in the forecast\n",
    "end_time = start_time + pd.DateOffset(months=num_months)\n",
    "\n",
    "# Use the model to make predictions and get future data\n",
    "predictions = model.predict(start=len(historical_data), end=len(historical_data) + num_months - 1)\n",
    "\n",
    "# Print prediction results\n",
    "print(f'Predictions for LocationID {location_id} from {start_time} to {end_time}:')\n",
    "for i, prediction in enumerate(predictions):\n",
    "    prediction_date = start_time + pd.DateOffset(months=i)\n",
    "    print(f'{prediction_date}: {prediction}')\n"
   ]
  },
  {
   "cell_type": "code",
   "execution_count": null,
   "id": "e40efc1c",
   "metadata": {},
   "outputs": [],
   "source": []
  },
  {
   "cell_type": "code",
   "execution_count": null,
   "id": "3cd1049c",
   "metadata": {},
   "outputs": [],
   "source": []
  },
  {
   "cell_type": "code",
   "execution_count": null,
   "id": "83e6e008",
   "metadata": {},
   "outputs": [],
   "source": []
  },
  {
   "cell_type": "markdown",
   "id": "9e6d8d12",
   "metadata": {},
   "source": [
    "# Real Estate"
   ]
  },
  {
   "cell_type": "code",
   "execution_count": 1,
   "id": "b597fda1",
   "metadata": {},
   "outputs": [
    {
     "name": "stdout",
     "output_type": "stream",
     "text": [
      "Predicted FULLVAL for LocationID 4 in year 2023: 3527604623.666687\n",
      "Growth Rate for LocationID 4 in year 2023: 0.00%\n",
      "\n",
      "Predicted FULLVAL for LocationID 4 in year 2024: 3699292684.5\n",
      "Growth Rate for LocationID 4 in year 2024: 4.87%\n",
      "\n",
      "Predicted FULLVAL for LocationID 4 in year 2025: 3870980745.333313\n",
      "Growth Rate for LocationID 4 in year 2025: 9.73%\n",
      "\n"
     ]
    }
   ],
   "source": [
    "import pickle\n",
    "import numpy as np\n",
    "\n",
    "# Load the models from the .pkl file\n",
    "with open('models_RealEstate.pkl', 'rb') as f:\n",
    "    models_dict = pickle.load(f)\n",
    "\n",
    "# Replace 123 with the desired LocationID for which you want to make predictions\n",
    "location_id = 4\n",
    "\n",
    "# Get the model for the specific LocationID\n",
    "model_for_location = models_dict[location_id]\n",
    "\n",
    "# Define the future years for which you want to make predictions\n",
    "future_years = np.array([2023, 2024, 2025]).reshape(-1, 1)\n",
    "\n",
    "# Make predictions for the future years\n",
    "predictions = model_for_location.predict(future_years)\n",
    "\n",
    "# Get the most recent 'FULLVAL' value for the given LocationID\n",
    "most_recent_fullval = model_for_location.predict(future_years[0].reshape(-1, 1))\n",
    "\n",
    "# Calculate the growth rate as a percentage\n",
    "growth_rate = ((predictions - most_recent_fullval) / most_recent_fullval) * 100\n",
    "\n",
    "# Print the predictions and growth rate\n",
    "for i, year in enumerate(future_years.flatten()):\n",
    "    print(f\"Predicted FULLVAL for LocationID {location_id} in year {year}: {predictions[i]}\")\n",
    "    print(f\"Growth Rate for LocationID {location_id} in year {year}: {growth_rate[i]:.2f}%\\n\")\n"
   ]
  },
  {
   "cell_type": "code",
   "execution_count": null,
   "id": "e82e5239",
   "metadata": {},
   "outputs": [],
   "source": []
  }
 ],
 "metadata": {
  "kernelspec": {
   "display_name": "Python 3 (ipykernel)",
   "language": "python",
   "name": "python3"
  },
  "language_info": {
   "codemirror_mode": {
    "name": "ipython",
    "version": 3
   },
   "file_extension": ".py",
   "mimetype": "text/x-python",
   "name": "python",
   "nbconvert_exporter": "python",
   "pygments_lexer": "ipython3",
   "version": "3.9.13"
  }
 },
 "nbformat": 4,
 "nbformat_minor": 5
}
